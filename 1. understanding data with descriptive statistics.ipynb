{
 "cells": [
  {
   "cell_type": "code",
   "execution_count": 1,
   "metadata": {},
   "outputs": [],
   "source": [
    "from pandas import read_csv\n",
    "from pandas import set_option"
   ]
  },
  {
   "cell_type": "code",
   "execution_count": 3,
   "metadata": {},
   "outputs": [
    {
     "name": "stdout",
     "output_type": "stream",
     "text": [
      "   pregnancy  plasma  pressure  skin  insulin  mass  pedigree  age  diagnosis\n",
      "0          6     148        72    35        0  33.6     0.627   50          1\n",
      "1          1      85        66    29        0  26.6     0.351   31          0\n",
      "2          8     183        64     0        0  23.3     0.672   32          1\n",
      "3          1      89        66    23       94  28.1     0.167   21          0\n",
      "4          0     137        40    35      168  43.1     2.288   33          1\n",
      "5          5     116        74     0        0  25.6     0.201   30          0\n",
      "6          3      78        50    32       88  31.0     0.248   26          1\n",
      "7         10     115         0     0        0  35.3     0.134   29          0\n",
      "8          2     197        70    45      543  30.5     0.158   53          1\n",
      "9          8     125        96     0        0   0.0     0.232   54          1\n"
     ]
    }
   ],
   "source": [
    "filename =\"C:\\\\Users\\\\HP\\\\pythonProjects\\\\1. Datasets\\\\pima-indians-diabetes.csv\"\n",
    "data = read_csv(filename)\n",
    "peek = data.head(10)\n",
    "print(peek)"
   ]
  },
  {
   "cell_type": "code",
   "execution_count": 4,
   "metadata": {},
   "outputs": [
    {
     "name": "stdout",
     "output_type": "stream",
     "text": [
      "(768, 9)\n"
     ]
    }
   ],
   "source": [
    "#shape of data\n",
    "print(data.shape)"
   ]
  },
  {
   "cell_type": "code",
   "execution_count": 8,
   "metadata": {},
   "outputs": [
    {
     "name": "stdout",
     "output_type": "stream",
     "text": [
      "        pregnancy      plasma    pressure  \\\n",
      "count  768.000000  768.000000  768.000000   \n",
      "mean     3.845052  120.894531   69.105469   \n",
      "std      3.369578   31.972618   19.355807   \n",
      "min      0.000000    0.000000    0.000000   \n",
      "25%      1.000000   99.000000   62.000000   \n",
      "50%      3.000000  117.000000   72.000000   \n",
      "75%      6.000000  140.250000   80.000000   \n",
      "max     17.000000  199.000000  122.000000   \n",
      "\n",
      "             skin     insulin        mass  \\\n",
      "count  768.000000  768.000000  768.000000   \n",
      "mean    20.536458   79.799479   31.992578   \n",
      "std     15.952218  115.244002    7.884160   \n",
      "min      0.000000    0.000000    0.000000   \n",
      "25%      0.000000    0.000000   27.300000   \n",
      "50%     23.000000   30.500000   32.000000   \n",
      "75%     32.000000  127.250000   36.600000   \n",
      "max     99.000000  846.000000   67.100000   \n",
      "\n",
      "         pedigree         age   diagnosis  \n",
      "count  768.000000  768.000000  768.000000  \n",
      "mean     0.471876   33.240885    0.348958  \n",
      "std      0.331329   11.760232    0.476951  \n",
      "min      0.078000   21.000000    0.000000  \n",
      "25%      0.243750   24.000000    0.000000  \n",
      "50%      0.372500   29.000000    0.000000  \n",
      "75%      0.626250   41.000000    1.000000  \n",
      "max      2.420000   81.000000    1.000000  \n"
     ]
    }
   ],
   "source": [
    "#statistical summary\n",
    "description = data.describe()\n",
    "print(description)"
   ]
  },
  {
   "cell_type": "code",
   "execution_count": 9,
   "metadata": {},
   "outputs": [
    {
     "name": "stdout",
     "output_type": "stream",
     "text": [
      "<bound method NDFrame._add_numeric_operations.<locals>.skew of      pregnancy  plasma  pressure  skin  insulin  \\\n",
      "0            6     148        72    35        0   \n",
      "1            1      85        66    29        0   \n",
      "2            8     183        64     0        0   \n",
      "3            1      89        66    23       94   \n",
      "4            0     137        40    35      168   \n",
      "..         ...     ...       ...   ...      ...   \n",
      "763         10     101        76    48      180   \n",
      "764          2     122        70    27        0   \n",
      "765          5     121        72    23      112   \n",
      "766          1     126        60     0        0   \n",
      "767          1      93        70    31        0   \n",
      "\n",
      "     mass  pedigree  age  diagnosis  \n",
      "0    33.6     0.627   50          1  \n",
      "1    26.6     0.351   31          0  \n",
      "2    23.3     0.672   32          1  \n",
      "3    28.1     0.167   21          0  \n",
      "4    43.1     2.288   33          1  \n",
      "..    ...       ...  ...        ...  \n",
      "763  32.9     0.171   63          0  \n",
      "764  36.8     0.340   27          0  \n",
      "765  26.2     0.245   30          0  \n",
      "766  30.1     0.349   47          1  \n",
      "767  30.4     0.315   23          0  \n",
      "\n",
      "[768 rows x 9 columns]>\n"
     ]
    }
   ],
   "source": [
    "#skew of each attribute\n",
    "skew = data.skew\n",
    "print(skew)"
   ]
  }
 ],
 "metadata": {
  "kernelspec": {
   "display_name": "base",
   "language": "python",
   "name": "python3"
  },
  "language_info": {
   "codemirror_mode": {
    "name": "ipython",
    "version": 3
   },
   "file_extension": ".py",
   "mimetype": "text/x-python",
   "name": "python",
   "nbconvert_exporter": "python",
   "pygments_lexer": "ipython3",
   "version": "3.10.10"
  }
 },
 "nbformat": 4,
 "nbformat_minor": 2
}
